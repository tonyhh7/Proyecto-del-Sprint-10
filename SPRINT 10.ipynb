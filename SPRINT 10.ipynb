{
 "cells": [
  {
   "cell_type": "markdown",
   "metadata": {},
   "source": [
    "# Proyecto Sprint 10.\n",
    "## Paso 1. Acceda los datos y prepáralos para el análisis.\n",
    "Datos utilizados en la primera parte del proyecto:\n",
    "\n",
    "/datasets/hypotheses_us.csv\n",
    "\n",
    "Datos utilizados en la segunda parte del proyecto:\n",
    "\n",
    "/datasets/orders_us.csv\n",
    "\n",
    "/datasets/visits_us.csv"
   ]
  },
  {
   "cell_type": "markdown",
   "metadata": {},
   "source": [
    "### Inicializacion"
   ]
  },
  {
   "cell_type": "code",
   "execution_count": 1,
   "metadata": {},
   "outputs": [],
   "source": [
    "import pandas as pd\n",
    "import seaborn as sns\n",
    "import matplotlib.pyplot as plt\n",
    "import numpy as np\n",
    "import datetime as dt\n",
    "import scipy.stats as stats"
   ]
  },
  {
   "cell_type": "markdown",
   "metadata": {},
   "source": [
    "### Cargar los datos."
   ]
  },
  {
   "cell_type": "code",
   "execution_count": 2,
   "metadata": {},
   "outputs": [],
   "source": [
    "hypotheses = pd.read_csv('/datasets/hypotheses_us.csv', sep=';')\n",
    "orders = pd.read_csv('/datasets/orders_us.csv')\n",
    "visits = pd.read_csv('/datasets/visits_us.csv')"
   ]
  },
  {
   "cell_type": "markdown",
   "metadata": {},
   "source": [
    "### Preparar los datos del df de hypotheses."
   ]
  },
  {
   "cell_type": "code",
   "execution_count": 3,
   "metadata": {},
   "outputs": [
    {
     "name": "stdout",
     "output_type": "stream",
     "text": [
      "                                          Hypothesis  Reach  Impact  \\\n",
      "0  Add two new channels for attracting traffic. T...      3      10   \n",
      "1  Launch your own delivery service. This will sh...      2       5   \n",
      "2  Add product recommendation blocks to the store...      8       3   \n",
      "3  Change the category structure. This will incre...      8       3   \n",
      "4  Change the background color on the main page. ...      3       1   \n",
      "\n",
      "   Confidence  Effort  \n",
      "0           8       6  \n",
      "1           4      10  \n",
      "2           7       3  \n",
      "3           3       8  \n",
      "4           1       1   \n",
      "\n",
      "<class 'pandas.core.frame.DataFrame'>\n",
      "RangeIndex: 9 entries, 0 to 8\n",
      "Data columns (total 5 columns):\n",
      " #   Column      Non-Null Count  Dtype \n",
      "---  ------      --------------  ----- \n",
      " 0   Hypothesis  9 non-null      object\n",
      " 1   Reach       9 non-null      int64 \n",
      " 2   Impact      9 non-null      int64 \n",
      " 3   Confidence  9 non-null      int64 \n",
      " 4   Effort      9 non-null      int64 \n",
      "dtypes: int64(4), object(1)\n",
      "memory usage: 488.0+ bytes\n",
      "None \n",
      "\n",
      "           Reach     Impact  Confidence     Effort\n",
      "count   9.000000   9.000000    9.000000   9.000000\n",
      "mean    4.777778   4.777778    5.555556   4.888889\n",
      "std     3.153481   3.192874    3.045944   2.803767\n",
      "min     1.000000   1.000000    1.000000   1.000000\n",
      "25%     3.000000   3.000000    3.000000   3.000000\n",
      "50%     3.000000   3.000000    7.000000   5.000000\n",
      "75%     8.000000   7.000000    8.000000   6.000000\n",
      "max    10.000000  10.000000    9.000000  10.000000 \n",
      "\n",
      "0 \n",
      "\n"
     ]
    }
   ],
   "source": [
    "print(hypotheses.head(),'\\n')\n",
    "print(hypotheses.info(), '\\n')\n",
    "print(hypotheses.describe(), '\\n')\n",
    "print(hypotheses.duplicated().sum(), '\\n')"
   ]
  },
  {
   "cell_type": "markdown",
   "metadata": {},
   "source": [
    "Una vez vistos los datos correspondientes a \"hypothesis\", podemos ver que los tipos de datos de las cinco columnas son correctos, esto debido a que, en la columna \"Hypothesis\" el tipo de datos que tiene es el de \"object\", lo cual es correcto puesto que tiene contenido de tipo object, luego en segundo lugar tenemos las columnas \"Reach\", \"Impact\", \"Confidence\" y \"Effort\", en donde podemos ver que tienen el tipo de datos \"int64\", lo cual es correcto.\n",
    "\n",
    "No podemos identificar valores nulos, asi como tampoco se pueden ver que duplicados."
   ]
  },
  {
   "cell_type": "markdown",
   "metadata": {},
   "source": [
    "### Prepara los datos del df de orders."
   ]
  },
  {
   "cell_type": "code",
   "execution_count": 4,
   "metadata": {},
   "outputs": [
    {
     "name": "stdout",
     "output_type": "stream",
     "text": [
      "   transactionId   visitorId        date  revenue group\n",
      "0     3667963787  3312258926  2019-08-15     30.4     B\n",
      "1     2804400009  3642806036  2019-08-15     15.2     B\n",
      "2     2961555356  4069496402  2019-08-15     10.2     A\n",
      "3     3797467345  1196621759  2019-08-15    155.1     B\n",
      "4     2282983706  2322279887  2019-08-15     40.5     B \n",
      "\n",
      "<class 'pandas.core.frame.DataFrame'>\n",
      "RangeIndex: 1197 entries, 0 to 1196\n",
      "Data columns (total 5 columns):\n",
      " #   Column         Non-Null Count  Dtype  \n",
      "---  ------         --------------  -----  \n",
      " 0   transactionId  1197 non-null   int64  \n",
      " 1   visitorId      1197 non-null   int64  \n",
      " 2   date           1197 non-null   object \n",
      " 3   revenue        1197 non-null   float64\n",
      " 4   group          1197 non-null   object \n",
      "dtypes: float64(1), int64(2), object(2)\n",
      "memory usage: 46.9+ KB\n",
      "None \n",
      "\n",
      "       transactionId     visitorId       revenue\n",
      "count   1.197000e+03  1.197000e+03   1197.000000\n",
      "mean    2.155621e+09  2.165960e+09    131.491646\n",
      "std     1.229085e+09  1.236014e+09    603.004729\n",
      "min     1.062393e+06  5.114589e+06      5.000000\n",
      "25%     1.166776e+09  1.111826e+09     20.800000\n",
      "50%     2.145194e+09  2.217985e+09     50.200000\n",
      "75%     3.237740e+09  3.177606e+09    130.400000\n",
      "max     4.293856e+09  4.283872e+09  19920.400000 \n",
      "\n",
      "0 \n",
      "\n"
     ]
    }
   ],
   "source": [
    "print(orders.head(),'\\n')\n",
    "print(orders.info(),'\\n')\n",
    "print(orders.describe(),'\\n')\n",
    "print(orders.duplicated().sum(),'\\n')"
   ]
  },
  {
   "cell_type": "markdown",
   "metadata": {},
   "source": [
    "Una vez vistos los datos correspondientes a \"orders\", podemos ver que los tipos de datos de cuatro de las cinco columnas son incorrectos, esto debido a que, en la columna \"transactionId\" que de nuevo esta en tipo de datos \"int64\" cuando deberia de tener el tipo de datos de \"uint64\", tal y como sucede con la columna \"visitorId\", por ultimo tenemos la columna \"date\" que tiene el tipo de datos \"object\" y deberia de tener el tipo de datos \"datetime\".\n",
    "\n",
    "Del mismo modo podemos ver que no hay duplicados, ni tampoco hay valores nulos."
   ]
  },
  {
   "cell_type": "code",
   "execution_count": 5,
   "metadata": {},
   "outputs": [
    {
     "name": "stdout",
     "output_type": "stream",
     "text": [
      "<class 'pandas.core.frame.DataFrame'>\n",
      "RangeIndex: 1197 entries, 0 to 1196\n",
      "Data columns (total 5 columns):\n",
      " #   Column         Non-Null Count  Dtype         \n",
      "---  ------         --------------  -----         \n",
      " 0   transactionId  1197 non-null   uint64        \n",
      " 1   visitorId      1197 non-null   uint64        \n",
      " 2   date           1197 non-null   datetime64[ns]\n",
      " 3   revenue        1197 non-null   float64       \n",
      " 4   group          1197 non-null   object        \n",
      "dtypes: datetime64[ns](1), float64(1), object(1), uint64(2)\n",
      "memory usage: 46.9+ KB\n",
      "None\n"
     ]
    }
   ],
   "source": [
    "# Cambiamos el tipo de datos de las columnas.\n",
    "orders['transactionId'] = orders['transactionId'].astype('uint64')\n",
    "orders['visitorId'] = orders['visitorId'].astype('uint64')\n",
    "orders['date'] = pd.to_datetime(orders['date'], format = '%Y-%m-%d')\n",
    "# Mostramos el resultado.\n",
    "print(orders.info())"
   ]
  },
  {
   "cell_type": "markdown",
   "metadata": {},
   "source": [
    "### Prepara los datos del df de visits."
   ]
  },
  {
   "cell_type": "code",
   "execution_count": 6,
   "metadata": {},
   "outputs": [
    {
     "name": "stdout",
     "output_type": "stream",
     "text": [
      "         date group  visits\n",
      "0  2019-08-01     A     719\n",
      "1  2019-08-02     A     619\n",
      "2  2019-08-03     A     507\n",
      "3  2019-08-04     A     717\n",
      "4  2019-08-05     A     756 \n",
      "\n",
      "<class 'pandas.core.frame.DataFrame'>\n",
      "RangeIndex: 62 entries, 0 to 61\n",
      "Data columns (total 3 columns):\n",
      " #   Column  Non-Null Count  Dtype \n",
      "---  ------  --------------  ----- \n",
      " 0   date    62 non-null     object\n",
      " 1   group   62 non-null     object\n",
      " 2   visits  62 non-null     int64 \n",
      "dtypes: int64(1), object(2)\n",
      "memory usage: 1.6+ KB\n",
      "None \n",
      "\n",
      "           visits\n",
      "count   62.000000\n",
      "mean   607.290323\n",
      "std    114.400560\n",
      "min    361.000000\n",
      "25%    534.000000\n",
      "50%    624.500000\n",
      "75%    710.500000\n",
      "max    770.000000 \n",
      "\n",
      "0 \n",
      "\n"
     ]
    }
   ],
   "source": [
    "print(visits.head(),'\\n')\n",
    "print(visits.info(),'\\n')\n",
    "print(visits.describe(),'\\n')\n",
    "print(visits.duplicated().sum(),'\\n')"
   ]
  },
  {
   "cell_type": "markdown",
   "metadata": {},
   "source": [
    "Una vez vistos los datos correspondientes a \"visits\", podemos ver que el tipo de datos de una de las tres columnas es incorrecto, esto debido a que, en la columna \"date\" que tiene el tipo de datos \"object\" y deberia de tener el tipo de datos \"datetime\".\n",
    "\n",
    "Del mismo modo podemos ver que no hay duplicados, ni tampoco hay valores nulos."
   ]
  },
  {
   "cell_type": "code",
   "execution_count": 7,
   "metadata": {
    "scrolled": true
   },
   "outputs": [
    {
     "name": "stdout",
     "output_type": "stream",
     "text": [
      "<class 'pandas.core.frame.DataFrame'>\n",
      "RangeIndex: 62 entries, 0 to 61\n",
      "Data columns (total 3 columns):\n",
      " #   Column  Non-Null Count  Dtype         \n",
      "---  ------  --------------  -----         \n",
      " 0   date    62 non-null     datetime64[ns]\n",
      " 1   group   62 non-null     object        \n",
      " 2   visits  62 non-null     int64         \n",
      "dtypes: datetime64[ns](1), int64(1), object(1)\n",
      "memory usage: 1.6+ KB\n",
      "None\n"
     ]
    }
   ],
   "source": [
    "# Cambiamos el tipo de datos de las columnas.\n",
    "visits['date'] = pd.to_datetime(visits['date'], format = '%Y-%m-%d')\n",
    "# Mostramos el resultado.\n",
    "print(visits.info())"
   ]
  },
  {
   "cell_type": "markdown",
   "metadata": {},
   "source": [
    "## Parte 1. Priorizar hipótesis\n",
    "El archivo hypotheses_us.csv contiene nueve hipótesis sobre cómo aumentar los ingresos de una tienda online con Reach, Impact, Confidence y Effort especificados para cada una.\n",
    "\n",
    "El ejercicio consiste en:\n",
    "\n",
    "- Aplicar el framework ICE para priorizar hipótesis. \n",
    "- Ordenarlas en orden descendente de prioridad.\n",
    "- Aplicar el framework RICE para priorizar hipótesis. \n",
    "- Ordenarlas en orden descendente de prioridad.\n",
    "- Mostrar cómo cambia la priorización de hipótesis cuando utilizas RICE en lugar de ICE. \n",
    "- Proporcionar una explicación de los cambios."
   ]
  },
  {
   "cell_type": "markdown",
   "metadata": {},
   "source": [
    "### Aplicar el framework ICE para priorizar hipótesis y ordenarlas en orden descendente de prioridad."
   ]
  },
  {
   "cell_type": "code",
   "execution_count": 8,
   "metadata": {},
   "outputs": [
    {
     "name": "stdout",
     "output_type": "stream",
     "text": [
      "                                          Hypothesis        ICE\n",
      "8  Launch a promotion that gives users discounts ...  16.200000\n",
      "0  Add two new channels for attracting traffic. T...  13.333333\n",
      "7  Add a subscription form to all the main pages....  11.200000\n",
      "6  Show banners with current offers and sales on ...   8.000000\n",
      "2  Add product recommendation blocks to the store...   7.000000\n",
      "1  Launch your own delivery service. This will sh...   2.000000\n",
      "5  Add a customer review page. This will increase...   1.333333\n",
      "3  Change the category structure. This will incre...   1.125000\n",
      "4  Change the background color on the main page. ...   1.000000\n"
     ]
    }
   ],
   "source": [
    "# Aplicaremos el framework RICE para priorizar la hipotesis y posteriormente ordenaremos en orden descendente de prioridad.\n",
    "hypotheses['ICE'] = (hypotheses['Impact'] * hypotheses['Confidence']) / hypotheses['Effort']\n",
    "print(hypotheses[['Hypothesis', 'ICE']].sort_values(by='ICE', ascending=False))"
   ]
  },
  {
   "cell_type": "markdown",
   "metadata": {},
   "source": [
    "El ICE presenta la 8, 0, 7 y 6 como las hipótesis más prometedoras. "
   ]
  },
  {
   "cell_type": "markdown",
   "metadata": {},
   "source": [
    "### Aplicar el framework RICE para priorizar hipótesis y odenarlas en orden descendente de prioridad."
   ]
  },
  {
   "cell_type": "code",
   "execution_count": 9,
   "metadata": {},
   "outputs": [
    {
     "name": "stdout",
     "output_type": "stream",
     "text": [
      "                                          Hypothesis   RICE\n",
      "7  Add a subscription form to all the main pages....  112.0\n",
      "2  Add product recommendation blocks to the store...   56.0\n",
      "0  Add two new channels for attracting traffic. T...   40.0\n",
      "6  Show banners with current offers and sales on ...   40.0\n",
      "8  Launch a promotion that gives users discounts ...   16.2\n",
      "3  Change the category structure. This will incre...    9.0\n",
      "1  Launch your own delivery service. This will sh...    4.0\n",
      "5  Add a customer review page. This will increase...    4.0\n",
      "4  Change the background color on the main page. ...    3.0\n"
     ]
    }
   ],
   "source": [
    "# Aplicaremos el framework RICE para priorizar la hipotesis y posteriormente ordenaremos en orden descendente de prioridad.\n",
    "hypotheses['RICE'] = (hypotheses['Reach'] * hypotheses['Impact'] * hypotheses['Confidence']) / hypotheses['Effort']\n",
    "print(hypotheses[['Hypothesis', 'RICE']].sort_values(by = 'RICE', ascending=False))"
   ]
  },
  {
   "cell_type": "markdown",
   "metadata": {},
   "source": [
    "El RICE presenta la 7, 2, 0 y 6 como las hipótesis más prometedoras."
   ]
  },
  {
   "cell_type": "markdown",
   "metadata": {},
   "source": [
    "### Mostrar cómo cambia la priorización de hipótesis cuando utilizas RICE en lugar de ICE, asi como tambien proporcionar una explicación de los cambios."
   ]
  },
  {
   "cell_type": "markdown",
   "metadata": {},
   "source": [
    "Una vez vistos los dos frameworks ICE y RICE podemos identificar varias diferencias entre ellos, para empezar podemos ver que la hipótesis numero 8 que tiene el puesto 1 en ICE, pero en RICE ocupa el puesto numero 5, en segundo lugar tenemos otra diferencia, la cual es que el puesto numero 3 en ICE que es la hipótesis numero 7 en RICE tiene el puesto numero 1, con base en ello es que podemos ver que la priorización tiene un fuerte enfoque en el alcance, luego podemos ver que la hipótesis numero 0 tiene el puesto numero 2 en ICE y el puesto numero 3 en RICE, en este caso no vimos tanta diferencia, pero en el caso de la hipótesis numero 2 que el ICE esta en el puesto numero 5, en RICE se coloca en el lugar numero 2, la hipótesis numero 6 se mantiene en el lugar numero 4 en ambos frameworks. \n",
    "\n",
    "Con base en lo anterior podemos ver que en RICE la hipótesis 0 ocupa uno de los lugares mas altos en RICE en comparación con lo que pasa con la hipótesis numero 8 que cayo de estar en el puesto numero 1 en ICE al numero 5 en RICE, por lo que podemos ver que hay grandes diferencias entre el enfoque de los dos frameworks. \n",
    "\n",
    "Es importante entender que ambas priorizaciones son importantes y útiles, sin embargo, cada una tiene sus utilidades diferentes ya que ICE puede ser mas funcional si el objetivo final es maximizar el impacto y la confianza mientras se minimiza el esfuerzo, puesto que este se enfoca en el Impacto, la Confianza y el Esfuerzo. Por otro lado podemos ver que RICE es mas funcional en el caso de que el objetivo sea maximizar el impacto a la mayor cantidad de usuarios posibles. \n",
    "\n",
    "Por ultimo, tomando en cuenta las evaluaciones de ambos marcos, es importante llamar a la reflexión sobre el tipo de impacto que se busca generar y el alcance que quieren lograr. Si bien RICE parece dar una mayor prioridad a las hipótesis con gran alcance, ICE está más orientado a optimizar el impacto a menor costo. Es importante que las decisiones de priorización no solo se basen en estos valores numéricos, sino que también consideren factores cualitativos, como la alineación con los objetivos estratégicos y el valor potencial a largo plazo de cada hipótesis."
   ]
  },
  {
   "cell_type": "markdown",
   "metadata": {},
   "source": [
    "## Parte 2. Análisis del test A/B\n",
    "Realizaste una prueba A/B y obtuviste los resultados descritos en los archivos orders_us.csv y visits_us.csv.\n",
    "\n",
    "Ejercicio\n",
    "\n",
    "Analiza el test A/B:"
   ]
  },
  {
   "cell_type": "markdown",
   "metadata": {},
   "source": [
    "### Representa gráficamente el ingreso acumulado por grupo. Haz conclusiones y conjeturas."
   ]
  },
  {
   "cell_type": "code",
   "execution_count": 10,
   "metadata": {},
   "outputs": [
    {
     "data": {
      "text/plain": [
       "<matplotlib.legend.Legend at 0x7fb563665d30>"
      ]
     },
     "execution_count": 10,
     "metadata": {},
     "output_type": "execute_result"
    },
    {
     "data": {
      "image/png": "[encoded data removed]",
      "text/plain": [
       "<Figure size 640x480 with 1 Axes>"
      ]
     },
     "metadata": {},
     "output_type": "display_data"
    }
   ],
   "source": [
    "# Crearemos una matriz con valores únicos de parejas fecha-grupo\n",
    "datesGroups = orders[['date','group']].drop_duplicates()\n",
    "datesGroups.head()\n",
    "\n",
    "# A continuación, usamos la matriz de combinaciones únicas de fecha y grupo para obtener los datos diarios acumulados agregados sobre los pedidos.\n",
    "ordersAggregated = datesGroups.apply(\n",
    "    lambda x: orders[np.logical_and(orders['date'] <= x['date'], orders['group'] == x['group'])].agg({\n",
    "'date' : 'max', \n",
    "'group' : 'max',\n",
    "'transactionId' : pd.Series.nunique, \n",
    "'visitorId' : pd.Series.nunique, \n",
    "'revenue' : 'sum'}), axis=1).sort_values(by=['date','group'])\n",
    "\n",
    "# Ahora obtenemos los datos diarios acumulados agregados sobre los visitantes.\n",
    "visitsAggregated = datesGroups.apply(lambda x: visits[np.logical_and(visits['date'] <= x['date'], visits['group'] == x['group'])].agg({'date' : 'max', 'group': 'max', 'visits': 'sum'}), axis = 1).sort_values(by=['date', 'group'])\n",
    "\n",
    "# Ahora fusionaremos las dos tablas en una y le daremos a sus columnas nombres descriptivos.\n",
    "cumulativeData = ordersAggregated.merge(visitsAggregated, left_on=['date', 'group'], right_on=['date', 'group'])\n",
    "cumulativeData.columns = ['date', 'group', 'orders', 'buyers', 'revenue', 'visits']\n",
    "\n",
    "# Crearemos un DataFrame con pedidos acumulados e ingresos acumulados por dia para el grupo A.\n",
    "cumulativeRevenueA = cumulativeData[cumulativeData['group'] == 'A'][['date', 'revenue', 'orders']]\n",
    "\n",
    "# Del mismo modo que el paso anterior, crearemos un DataFrame con pedidos acumulados e ingresos acumulados por dia para el grupo B.\n",
    "cumulativeRevenueB = cumulativeData[cumulativeData['group']=='B'][['date', 'revenue', 'orders']]\n",
    "\n",
    "# Trazaremos el grafico de ingresos del grupo A.\n",
    "plt.plot(cumulativeRevenueA['date'], cumulativeRevenueA['revenue'], label ='A')\n",
    "# Trazaremos el grafico de ingresos del grupo B.\n",
    "plt.plot(cumulativeRevenueB['date'], cumulativeRevenueB['revenue'], label = 'B')\n",
    "plt.legend()\n"
   ]
  },
  {
   "cell_type": "markdown",
   "metadata": {},
   "source": [
    "Haz conclusiones y conjeturas.\n",
    "\n",
    "En conclusion, podemos decir que ambos grupos han tenido un crecimiento sostenido a lo largo del tiempo, sin embargo tambien se puede ver claramente como es que el grupo B tuvo un crecimiento que hizo que su ganancia se incrementara fuertemente en comparacion con la del grupo A, y a causa de ello la curva de B se separo de la de A, a pesar de que podemos ver que luego el crecimiento de ambas se mantiene en la misma magnitud, pero con diferencias notables en las cantidades. Por lo anterior se puede decir que la estrategia empleada en el grupo B es funcional para poder incrementar las ganancias de manera rapida y significativa al menos en el tiempo que se muestra en el grafico, esto debido a su notable incremento en las ganancias en comparacion con lo que pasa con la curva de A."
   ]
  },
  {
   "cell_type": "markdown",
   "metadata": {},
   "source": [
    "### Representa gráficamente el tamaño de pedido promedio acumulado por grupo. Haz conclusiones y conjeturas."
   ]
  },
  {
   "cell_type": "code",
   "execution_count": 11,
   "metadata": {},
   "outputs": [
    {
     "data": {
      "text/plain": [
       "<matplotlib.legend.Legend at 0x7fb5615d1610>"
      ]
     },
     "execution_count": 11,
     "metadata": {},
     "output_type": "execute_result"
    },
    {
     "data": {
      "image/png": "[encoded data removed]",
      "text/plain": [
       "<Figure size 640x480 with 1 Axes>"
      ]
     },
     "metadata": {},
     "output_type": "display_data"
    }
   ],
   "source": [
    "# Trazaremos el grafico del tamaño del pedido promedio acumulado del grupo A.\n",
    "plt.plot(cumulativeRevenueA['date'], cumulativeRevenueA['revenue']/cumulativeRevenueA['orders'], label = 'A')\n",
    "# Trazaremos el grafico del tamaño del pedido promedio acumulado del grupo B.\n",
    "plt.plot(cumulativeRevenueB['date'], cumulativeRevenueB['revenue']/cumulativeRevenueB['orders'], label = 'B')\n",
    "plt.legend()"
   ]
  },
  {
   "cell_type": "markdown",
   "metadata": {},
   "source": [
    "Haz conclusiones y conjeturas.\n",
    "\n",
    "En conclusion podemos decir que a pesar de que las ganancias se hayan incrementado en el grupo B, este incremento parece ser que fue solo un \"shock\" de compra, ya que con el paso del tiempo podemos darnos cuenta de que el promedio de compra de B no fue constantemente positivo. Aunque B si tuvo un incremento significativo que lo posiciono muy por encima del promedio del grupo A en un punto en el tiempo, eso no impidió que poco después comenzara a decaer con una tendencia negativa. \n",
    "A diferencia del promedio del grupo A, que aunque demostró no ser tan volátil, mantiene un crecimiento positivo a lo largo del tiempo, sin tantas fluctuaciones, mas bien con un comportamiento positivo mas constante.\n",
    "\n",
    "Es por ello que viendo el grafico a lo largo del tiempo, podría ser mas funcional seguir con la estrategia optada por el grupo A en lugar de la del grupo B debido a la estabilidad que el grupo A muestra con mantener un crecimiento constante a lo largo del tiempo, a diferencia de lo que pasa en el grupo B, que aunque tuvo un impacto inicial muy positivo, no se puede ver que hay una consistencia en el largo plazo."
   ]
  },
  {
   "cell_type": "markdown",
   "metadata": {},
   "source": [
    "### Representa gráficamente la diferencia relativa en el tamaño de pedido promedio acumulado para el grupo B en comparación con el grupo A. Haz conclusiones y conjeturas."
   ]
  },
  {
   "cell_type": "code",
   "execution_count": 12,
   "metadata": {},
   "outputs": [
    {
     "data": {
      "image/png": "[encoded data removed]",
      "text/plain": [
       "<Figure size 640x480 with 1 Axes>"
      ]
     },
     "metadata": {},
     "output_type": "display_data"
    }
   ],
   "source": [
    "# Reuniremos los datos en un DataFrame.\n",
    "mergedCumulativeRevenue = cumulativeRevenueA.merge(cumulativeRevenueB, left_on = 'date', right_on = 'date', how = 'left', suffixes = ['A', 'B'])\n",
    "\n",
    "# Ahora trazaremos un grafico de diferencia relativa entre el tamaño de compra promedio acumulado en el grupo B en comparacion con el del grupo A.\n",
    "plt.plot(\n",
    "    mergedCumulativeRevenue['date'],    \n",
    "    (mergedCumulativeRevenue['revenueB'] / mergedCumulativeRevenue['ordersB'])\n",
    "    /(mergedCumulativeRevenue['revenueA'] / mergedCumulativeRevenue['ordersA']) - 1,\n",
    "    label=\"Diferencia Relativa\"\n",
    ")\n",
    "# Agregaremos el eje X.\n",
    "plt.axhline(y=0, color='black', linestyle = '--')\n",
    "\n",
    "# Agregar etiquetas y título\n",
    "plt.xlabel('Fecha')\n",
    "plt.ylabel('Diferencia Relativa del Tamaño de Pedido Promedio')\n",
    "plt.title('Diferencia Relativa entre el Tamaño de Pedido Promedio Acumulado: Grupo B vs A')\n",
    "\n",
    "# Mostramos la leyenda\n",
    "plt.legend()  # Aquí se debe asociar la etiqueta al gráfico\n",
    "\n",
    "# Mostrar el gráfico\n",
    "plt.show()\n"
   ]
  },
  {
   "cell_type": "markdown",
   "metadata": {},
   "source": [
    "Saca conclusiones y haz conjeturas.\n",
    "\n",
    "En conclusion podemos decir que la diferencia relativa entre el tamaño de pedido promedio acumulado entre el grupo B y el grupo A muestra una gran volatibilidad, con grandes fluctuaciones a lo largo del tiempo. Esta volatibilidad puede estar relacionada compras anormalmente grandes que pudieron ocasionar esos grandes picos. "
   ]
  },
  {
   "cell_type": "markdown",
   "metadata": {},
   "source": [
    "### Calcula la tasa de conversión de cada grupo como la relación entre los pedidos y el número de visitas de cada día. Representa gráficamente las tasas de conversión diarias de los dos grupos y describe la diferencia. Saca conclusiones y haz conjeturas."
   ]
  },
  {
   "cell_type": "code",
   "execution_count": 13,
   "metadata": {},
   "outputs": [
    {
     "data": {
      "image/png": "[encoded data removed]",
      "text/plain": [
       "<Figure size 640x480 with 1 Axes>"
      ]
     },
     "metadata": {},
     "output_type": "display_data"
    }
   ],
   "source": [
    "# Calculamos la conversion acumulada\n",
    "cumulativeData['conversion'] = cumulativeData['orders']/cumulativeData['visits']\n",
    "#seleccionar datos en el grupo A\n",
    "cumulativeDataA = cumulativeData[cumulativeData['group']=='A']\n",
    "\n",
    "#seleccionamos datos en el grupo B \n",
    "cumulativeDataB = cumulativeData[cumulativeData['group']=='B']\n",
    "\n",
    "# Trazamos los graficos\n",
    "plt.plot(cumulativeDataA['date'], cumulativeDataA['conversion'], label = 'A')\n",
    "plt.plot(cumulativeDataB['date'], cumulativeDataB['conversion'], label = 'B')\n",
    "plt.legend()\n",
    "\n",
    "# Establecer el rango de fechas automáticamente\n",
    "min_date = cumulativeData['date'].min()\n",
    "max_date = cumulativeData['date'].max()\n",
    "\n",
    "# Establecer la escala de los ejes con el rango automático de fechas\n",
    "plt.axis([min_date, max_date, 0, 0.05])\n",
    "\n",
    "# Etiquetas y título del gráfico\n",
    "plt.xlabel('Fecha')\n",
    "plt.ylabel('Tasa de Conversión')\n",
    "plt.title('Tasas de Conversión Diarias de los Grupos A y B')\n",
    "\n",
    "# Mostramos el gráfico\n",
    "plt.show()"
   ]
  },
  {
   "cell_type": "markdown",
   "metadata": {},
   "source": [
    "Saca conclusiones y haz conjeturas.\n",
    "\n",
    "Una vez visto el grafico se puede concluir con que ambos grupos, tanto el B como el A tienen tasas de conversion muy similares a lo largo del tiempo. Sin embargo, es claro que al final ambas curvas van convergiendo, puesto que se ve que la del grupo B va cayendo gradualmente, mientras que la del grupo A se mantiene constante pero creciendo a lo largo del tiempo. Es por ello que podemos inferir que la tasa de conversion del grupo A es ligeramente mayor que la del grupo B."
   ]
  },
  {
   "cell_type": "markdown",
   "metadata": {},
   "source": [
    "### Traza un gráfico de dispersión del número de pedidos por usuario. Haz conclusiones y conjeturas."
   ]
  },
  {
   "cell_type": "code",
   "execution_count": 14,
   "metadata": {},
   "outputs": [
    {
     "data": {
      "image/png": "[encoded data removed]",
      "text/plain": [
       "<Figure size 500x300 with 1 Axes>"
      ]
     },
     "metadata": {},
     "output_type": "display_data"
    }
   ],
   "source": [
    "# Agrupar el número de pedidos por usuario\n",
    "orders_per_user = orders.groupby('visitorId')['transactionId'].nunique().reset_index(name='num_orders')\n",
    "\n",
    "# Trazar el gráfico de dispersión\n",
    "plt.figure(figsize=(5,3))\n",
    "plt.scatter(orders_per_user['visitorId'], orders_per_user['num_orders'], alpha=0.6, color='b')\n",
    "\n",
    "# Agregar etiquetas y título\n",
    "plt.xlabel('visitorId')\n",
    "plt.ylabel('Número de Pedidos')\n",
    "plt.title('Gráfico de Dispersión del Número de Pedidos por Usuario')\n",
    "\n",
    "# Mostrar el gráfico\n",
    "plt.show()"
   ]
  },
  {
   "cell_type": "markdown",
   "metadata": {},
   "source": [
    "Haz conclusiones y conjeturas.\n",
    "\n",
    "En conclusion, el numero de pedidos por visitante se mantiene cercano al numero 1, sin embargo, también se puede observar que hay usuarios que tienen un comportamiento atipico a lo largo del tiempo, puesto que realizan pedidos atípicos a lo largo del tiempo, llegando a superar los 10 pedidos por usuario. Esto puede significar que un pequeño grupo de usuarios realiza compras repetidas de manera significativa."
   ]
  },
  {
   "cell_type": "markdown",
   "metadata": {},
   "source": [
    "### Calcula los percentiles 95 y 99 del número de pedidos por usuario. Define el punto en el cual un punto de datos se convierte en una anomalía."
   ]
  },
  {
   "cell_type": "code",
   "execution_count": 15,
   "metadata": {},
   "outputs": [
    {
     "name": "stdout",
     "output_type": "stream",
     "text": [
      "       visitorId  num_orders\n",
      "1023  4256040402          11\n",
      "591   2458001652          11\n",
      "569   2378935119           9\n",
      "487   2038680547           8\n",
      "44     199603092           5\n",
      "744   3062433592           5\n",
      "55     237748145           5\n",
      "917   3803269165           5\n",
      "299   1230306981           5\n",
      "897   3717692402           5 \n",
      "\n",
      "[2. 4.]\n"
     ]
    }
   ],
   "source": [
    "orders_per_user = orders.groupby('visitorId')['transactionId'].nunique().reset_index(name='num_orders')\n",
    "\n",
    "orders_per_user.columns = ['visitorId', 'num_orders']\n",
    "\n",
    "print(orders_per_user.sort_values(by='num_orders', ascending=False).head(10),'\\n')\n",
    "\n",
    "print(np.percentile(orders_per_user['num_orders'], [95, 99])) "
   ]
  },
  {
   "cell_type": "markdown",
   "metadata": {},
   "source": [
    "Define el punto en el cual un punto de datos se convierte en una anomalía.\n",
    "\n",
    "Un valor se considera una anomalía si este supera el percentil 99. Por lo tanto, el punto en el cual los pedidos se convierten en una anomalia es cuando los usuarios hacen 4 o mas pedidos."
   ]
  },
  {
   "cell_type": "markdown",
   "metadata": {},
   "source": [
    "### Traza un gráfico de dispersión de los precios de los pedidos. Haz conclusiones y conjeturas."
   ]
  },
  {
   "cell_type": "code",
   "execution_count": 16,
   "metadata": {},
   "outputs": [
    {
     "name": "stdout",
     "output_type": "stream",
     "text": [
      "      transactionId   visitorId       date  revenue group\n",
      "425       590470918  1920142716 2019-08-19  19920.4     B\n",
      "1196     3936777065  2108080724 2019-08-15   3120.1     B\n",
      "858       192721366  1316129916 2019-08-27   1450.2     A\n",
      "1136      666610489  1307669133 2019-08-13   1425.8     A\n",
      "744      3668308183   888512513 2019-08-27   1335.6     B\n",
      "662      1811671147  4266935830 2019-08-29   1220.2     A\n",
      "682      1216533772  4266935830 2019-08-29   1220.2     B\n",
      "743      3603576309  4133034833 2019-08-09   1050.0     A\n",
      "1103     1348774318  1164614297 2019-08-12   1025.8     A\n",
      "1099      316924019   148427295 2019-08-12   1015.9     A\n"
     ]
    },
    {
     "data": {
      "image/png": "[encoded data removed]",
      "text/plain": [
       "<Figure size 500x300 with 1 Axes>"
      ]
     },
     "metadata": {},
     "output_type": "display_data"
    }
   ],
   "source": [
    "# Mostraremos los 10 pedidos con mayor ingreso\n",
    "print(orders.sort_values(by='revenue', ascending=False).head(10))\n",
    "\n",
    "# Crearemos un rango de números desde 0 hasta el número de observaciones\n",
    "x_values = pd.Series(range(0, len(orders)))\n",
    "\n",
    "# Trazaremos el gráfico de dispersión de los precios de los pedidos\n",
    "plt.figure(figsize=(5,3))  \n",
    "plt.scatter(x_values, orders['revenue'], alpha=0.6, color='b')\n",
    "plt.xlabel('Índice de Pedido')\n",
    "plt.ylabel('Precio del Pedido (Revenue)')\n",
    "plt.title('Gráfico de Dispersión de los Precios de los Pedidos')\n",
    "plt.show()"
   ]
  },
  {
   "cell_type": "markdown",
   "metadata": {},
   "source": [
    "Haz conclusiones y conjeturas.\n",
    "\n",
    "En conclusion en el grafico de dispersion de los precios de los pedidos, se puede observar que la mayoría de los pedidos generan ingresos ligeramente superiores a cero, y se mantienen muy por debajo de los 5000. Sin embargo, tambien se pueden identificar dos puntos atípicos, que muestran ingresos significativamente mas altos, con valores de aproximadamente 20000 y 5000 respectivamente. "
   ]
  },
  {
   "cell_type": "markdown",
   "metadata": {},
   "source": [
    "### Calcula los percentiles 95 y 99 de los precios de los pedidos. Define el punto en el cual un punto de datos se convierte en una anomalía."
   ]
  },
  {
   "cell_type": "code",
   "execution_count": 17,
   "metadata": {},
   "outputs": [
    {
     "name": "stdout",
     "output_type": "stream",
     "text": [
      "   transactionId   visitorId       date  revenue group\n",
      "0     3667963787  3312258926 2019-08-15     30.4     B\n",
      "1     2804400009  3642806036 2019-08-15     15.2     B\n",
      "2     2961555356  4069496402 2019-08-15     10.2     A\n",
      "3     3797467345  1196621759 2019-08-15    155.1     B\n",
      "4     2282983706  2322279887 2019-08-15     40.5     B\n",
      "5      182168103   935554773 2019-08-15     35.0     B\n",
      "6      398296753  2900797465 2019-08-15     30.6     B\n",
      "7     2626614568    78758296 2019-08-15     20.1     A\n",
      "8     1576988021   295230930 2019-08-15    215.9     A\n",
      "9     1506739906  1882260405 2019-08-15     30.5     B \n",
      "\n",
      "[435.54  900.904]\n"
     ]
    }
   ],
   "source": [
    "print(orders.head(10),'\\n')\n",
    "print(np.percentile(orders['revenue'], [95, 99]))"
   ]
  },
  {
   "cell_type": "markdown",
   "metadata": {},
   "source": [
    "Define el punto en el cual un punto de datos se convierte en una anomalía.\n",
    "\n",
    "Un valor se considera una anomalía si este supera el percentil 99. Por lo tanto, el punto en el cual los datos se convierten en una anomalia es cuando los ingresos por transaccion son mayores a 900.904."
   ]
  },
  {
   "cell_type": "markdown",
   "metadata": {},
   "source": [
    "### Encuentra la significancia estadística de la diferencia en la conversión entre los grupos utilizando los datos en bruto. Haz conclusiones y conjeturas."
   ]
  },
  {
   "cell_type": "code",
   "execution_count": 18,
   "metadata": {},
   "outputs": [
    {
     "name": "stdout",
     "output_type": "stream",
     "text": [
      "Valor p de la prueba de Mann-Whitney: 0.017\n",
      "Diferencia relativa entre las medias: 0.138\n"
     ]
    }
   ],
   "source": [
    "# Número de pedidos por usuario en grupo A\n",
    "ordersByUsersA = orders[orders['group'] == 'A'].groupby('visitorId', as_index=False).agg({'transactionId': pd.Series.nunique})\n",
    "ordersByUsersA.columns = ['visitorId', 'orders']\n",
    "\n",
    "# Número de pedidos por usuario en grupo B\n",
    "ordersByUsersB = orders[orders['group'] == 'B'].groupby('visitorId', as_index=False).agg({'transactionId': pd.Series.nunique})\n",
    "ordersByUsersB.columns = ['visitorId', 'orders']\n",
    "\n",
    "# Crear las muestras con ceros para los usuarios sin pedidos\n",
    "sampleA = pd.concat([ordersByUsersA['orders'], pd.Series(0, index=np.arange(visits[visits['group'] == 'A']['visits'].sum() - len(ordersByUsersA['orders'])), name='orders')], axis=0)\n",
    "sampleB = pd.concat([ordersByUsersB['orders'], pd.Series(0, index=np.arange(visits[visits['group'] == 'B']['visits'].sum() - len(ordersByUsersB['orders'])), name='orders')], axis=0)\n",
    "\n",
    "# Realizamos la prueba de Mann-Whitney\n",
    "p_value = stats.mannwhitneyu(sampleA, sampleB)[1]\n",
    "\n",
    "# Calcular la diferencia relativa entre las medias\n",
    "mean_difference = sampleB.mean() / sampleA.mean() - 1\n",
    "\n",
    "# Resultados\n",
    "print(f\"Valor p de la prueba de Mann-Whitney: {p_value:.3f}\")\n",
    "print(f\"Diferencia relativa entre las medias: {mean_difference:.3f}\")"
   ]
  },
  {
   "cell_type": "markdown",
   "metadata": {},
   "source": [
    "Haz conclusiones y conjeturas.\n",
    "\n",
    "Una vez hechas las pruebas necesarias para determinar la significancia estadística de la diferencia en la conversión entre los grupos utilizando los datos en bruto, podemos concluir que si hay una diferencia estadísticamente significativa entre los grupos, puesto que el valor p de la prueba de Mann-Whitney es 0.017, lo cual es menor que el umbral de 0.05.\n",
    "\n",
    "Del mismo modo podemos observar que el grupo B tiene una tasa de conversion de 13.8% mayor en comparación con el grupo A. Esto puede significar que la estrategia implementada en el grupo B tiene un impacto positivo en relación a la conversion, aunque la diferencia entre los grupos no sea muy grande."
   ]
  },
  {
   "cell_type": "markdown",
   "metadata": {},
   "source": [
    "### Encuentra la significancia estadística de la diferencia en el tamaño promedio de pedido entre los grupos utilizando los datos en bruto. Haz conclusiones y conjeturas."
   ]
  },
  {
   "cell_type": "code",
   "execution_count": 19,
   "metadata": {},
   "outputs": [
    {
     "name": "stdout",
     "output_type": "stream",
     "text": [
      "0.692\n",
      "0.252\n"
     ]
    }
   ],
   "source": [
    "print('{0:.3f}'.format(stats.mannwhitneyu(orders[orders['group']=='A']['revenue'], orders[orders['group']=='B']['revenue'])[1]))\n",
    "print('{0:.3f}'.format(orders[orders['group']=='B']['revenue'].mean()/orders[orders['group']=='A']['revenue'].mean()-1))"
   ]
  },
  {
   "cell_type": "markdown",
   "metadata": {},
   "source": [
    "Haz conclusiones y conjeturas.\n",
    "\n",
    "Una vez realizadas las pruebas necesarias para determinar la significancia estadística de la diferencia en el tamaño promedio del pedido entre los grupos utilizando los datos en bruto, podemos concluir que no hay una diferencia estadísticamente significativa entre los grupos, ya que el valor p de la prueba Mann-Whitney es de 0.692, lo cual es mayor que el umbral de 0.05.\n",
    "\n",
    "Sin embargo, por otro lado, podemos observar que el grupo B tiene un tamaño promedio superior al de A en un 25.2%. A pesar de esta diferencia, no podemos afirmar que sea significativa debido a la falta de evidencia estadistica."
   ]
  },
  {
   "cell_type": "markdown",
   "metadata": {},
   "source": [
    "### Encuentra la significancia estadística de la diferencia en la conversión entre los grupos utilizando los datos filtrados. Haz conclusiones y conjeturas."
   ]
  },
  {
   "cell_type": "code",
   "execution_count": 20,
   "metadata": {},
   "outputs": [
    {
     "name": "stdout",
     "output_type": "stream",
     "text": [
      "1099     148427295\n",
      "949      887908475\n",
      "744      888512513\n",
      "1103    1164614297\n",
      "1136    1307669133\n",
      "Name: visitorId, dtype: uint64\n",
      "(15,)\n",
      "Valor p de la prueba de Mann-Whitney: 0.995\n",
      "Diferencia relativa entre las medias: -0.000\n"
     ]
    }
   ],
   "source": [
    "# Filtramos los usuarios con más de 4 pedidos\n",
    "ordersByUsersA = orders[orders['group'] == 'A'].groupby('visitorId', as_index=False).agg({'transactionId': pd.Series.nunique})\n",
    "ordersByUsersA.columns = ['visitorId', 'orders']\n",
    "\n",
    "ordersByUsersB = orders[orders['group'] == 'B'].groupby('visitorId', as_index=False).agg({'transactionId': pd.Series.nunique})\n",
    "ordersByUsersB.columns = ['visitorId', 'orders']\n",
    "\n",
    "# Seleccionamos usuarios con más de 4 pedidos en cada grupo\n",
    "usersWithManyOrders = pd.concat(\n",
    "    [ordersByUsersA[ordersByUsersA['orders'] > 4]['visitorId'], \n",
    "     ordersByUsersB[ordersByUsersB['orders'] > 4]['visitorId']], axis=0\n",
    ")\n",
    "\n",
    "# Seleccionamos usuarios con ingresos superiores a 900.90\n",
    "usersWithExpensiveOrders = orders[orders['revenue'] > 900.90]['visitorId']\n",
    "\n",
    "# Concatenamos ambos sets de usuarios anómalos, eliminamos duplicados y ordenamos\n",
    "abnormalUsers = pd.concat([usersWithManyOrders, usersWithExpensiveOrders], axis=0).drop_duplicates().sort_values()\n",
    "\n",
    "# Imprimimos los primeros 5 usuarios anómalos y el número total de usuarios anómalos\n",
    "print(abnormalUsers.head(5))\n",
    "print(abnormalUsers.shape)\n",
    "\n",
    "# Filtramos los datos para eliminar los usuarios anómalos\n",
    "ordersFilteredA = orders[~orders['visitorId'].isin(abnormalUsers[abnormalUsers.isin(orders[orders['group'] == 'A']['visitorId'])])]\n",
    "ordersFilteredB = orders[~orders['visitorId'].isin(abnormalUsers[abnormalUsers.isin(orders[orders['group'] == 'B']['visitorId'])])]\n",
    "\n",
    "# Ahora podemos realizar las pruebas de significancia en los datos filtrados\n",
    "sampleA = ordersFilteredA.groupby('visitorId').agg({'transactionId': pd.Series.nunique}).reset_index()\n",
    "sampleB = ordersFilteredB.groupby('visitorId').agg({'transactionId': pd.Series.nunique}).reset_index()\n",
    "\n",
    "# Renombramos la columna 'transactionId' a 'orders' para que sea más claro\n",
    "sampleA = sampleA.rename(columns={'transactionId': 'orders'})\n",
    "sampleB = sampleB.rename(columns={'transactionId': 'orders'})\n",
    "\n",
    "# Prueba de Mann-Whitney\n",
    "p_value_conversion = stats.mannwhitneyu(sampleA['orders'], sampleB['orders'])[1]\n",
    "\n",
    "# Diferencia relativa entre las medias\n",
    "mean_difference_conversion = sampleB['orders'].mean() / sampleA['orders'].mean() - 1\n",
    "\n",
    "# Imprimimos resultados de significancia y diferencia relativa\n",
    "print(f\"Valor p de la prueba de Mann-Whitney: {p_value_conversion:.3f}\")\n",
    "print(f\"Diferencia relativa entre las medias: {mean_difference_conversion:.3f}\")"
   ]
  },
  {
   "cell_type": "markdown",
   "metadata": {},
   "source": [
    "Haz conclusiones y conjeturas.\n",
    "\n",
    "Una vez realizadas las pruebas necesarias para determinar la significancia estadistica de la diferencia en la conversion entre los grupos utilizando los datos filtrados, podemos concluir que no hay una diferencia estadisticamente significativa entre los grupos, ya que el valor p de la prueba Mann-Whitney es de 0.995, lo cual es mayor que el umbral de 0.05.\n",
    "\n",
    "Del mismo modo al observar la diferencia relativa entre medias de -0.000, podemos inferir que no hay una diferencia notable en el numero de pedidos entre ambos grupos, ya que el valor cercano a cero implica que los grupos tienen un comportamiento muy similar en términos de conversion, siempre y cuando los datos anómalos sean excluidos de la prueba."
   ]
  },
  {
   "cell_type": "markdown",
   "metadata": {},
   "source": [
    "### Encuentra la significancia estadística de la diferencia en el tamaño promedio de pedido entre los grupos utilizando los datos filtrados. Haz conclusiones y conjeturas."
   ]
  },
  {
   "cell_type": "code",
   "execution_count": 21,
   "metadata": {},
   "outputs": [
    {
     "name": "stdout",
     "output_type": "stream",
     "text": [
      "Valor p de la prueba de Mann-Whitney: 0.972\n",
      "Diferencia relativa entre las medias: -0.141\n"
     ]
    }
   ],
   "source": [
    "# Prueba de Mann-Whitney para el tamaño promedio del pedido (revenue)\n",
    "p_value_revenue = stats.mannwhitneyu(\n",
    "    ordersFilteredA['revenue'], ordersFilteredB['revenue']\n",
    ")[1]\n",
    "\n",
    "# Diferencia relativa entre las medias del tamaño promedio del pedido\n",
    "mean_difference_revenue = (\n",
    "    ordersFilteredB['revenue'].mean() / ordersFilteredA['revenue'].mean() - 1\n",
    ")\n",
    "\n",
    "# Imprimimos resultados\n",
    "print(f\"Valor p de la prueba de Mann-Whitney: {p_value_revenue:.3f}\")\n",
    "print(f\"Diferencia relativa entre las medias: {mean_difference_revenue:.3f}\")"
   ]
  },
  {
   "cell_type": "markdown",
   "metadata": {},
   "source": [
    "Haz conclusiones y conjeturas.\n",
    "\n",
    "Una vez realizadas las pruebas necesarias para determinar la significancia estadística de la diferencia en el tamaño entre los grupos utilizando los datos filtrados, podemos concluir que no hay una diferencia estadisticamente significativa entre los grupos, ya que el valor p de la prueba Mann-Whitney es de 0.972, lo cual es mayor que el umbral de 0.05.\n",
    "\n",
    "Del mismo modo, al observer la diferencia relativa entre las medias de -0.141, podemos inferir que el tamaño promedio de los pedidos en el grupo B es un 14.1% menor que en el grupo A."
   ]
  },
  {
   "cell_type": "markdown",
   "metadata": {},
   "source": [
    "### Toma una decisión basada en los resultados de la prueba. Las decisiones posibles son: 1. Parar la prueba, considerar a uno de los grupos como líder. 2. Parar la prueba, concluir que no hay diferencia entre los grupos. 3. Continuar la prueba."
   ]
  },
  {
   "cell_type": "markdown",
   "metadata": {},
   "source": [
    "La decision que tomo basada en los resultados de las pruebas es la numero 2: parar la prueba y concluir que no hay diferencias significativas entre los grupos. Esta decision la tomo con base en los resultados obtenidos, donde incluso despues de ver que no hay anomalias, no se encontro evidencia estadistica suficiente para poder afirmar una diferencia significativa en la conversion ni en el tamaño de las ordines entre los grupos.\n",
    "\n",
    "Los valores p de las pruebas de Mann-Whitney fueron persistentemente mayores al umbral del 0.05, lo que confirma que cualquier diferencia observada podria ser atribuida al azar y no necesariamente a una razon estadisticamente racional. Es por todo lo anterior que se puede concluir que continuar con la prueba no seria una decision eficiente, ya que no se espera obtener informacion suficientemente relevante en el future."
   ]
  }
 ],
 "metadata": {
  "ExecuteTimeLog": [
   {
    "duration": 2796,
    "start_time": "2024-11-08T20:45:32.450Z"
   },
   {
    "duration": 3,
    "start_time": "2024-11-08T20:45:46.713Z"
   },
   {
    "duration": 18,
    "start_time": "2024-11-08T20:47:16.617Z"
   },
   {
    "duration": 21,
    "start_time": "2024-11-08T20:49:31.717Z"
   },
   {
    "duration": 12,
    "start_time": "2024-11-08T20:49:52.994Z"
   },
   {
    "duration": 12,
    "start_time": "2024-11-08T20:50:05.855Z"
   },
   {
    "duration": 155,
    "start_time": "2024-11-08T21:24:08.620Z"
   },
   {
    "duration": 2606,
    "start_time": "2024-11-08T21:24:16.125Z"
   },
   {
    "duration": 18,
    "start_time": "2024-11-08T21:24:18.733Z"
   },
   {
    "duration": 14,
    "start_time": "2024-11-08T21:24:18.753Z"
   },
   {
    "duration": 17,
    "start_time": "2024-11-08T21:24:18.770Z"
   },
   {
    "duration": 2513,
    "start_time": "2024-11-11T07:01:10.306Z"
   },
   {
    "duration": 24,
    "start_time": "2024-11-11T07:01:12.821Z"
   },
   {
    "duration": 19,
    "start_time": "2024-11-11T07:01:12.847Z"
   },
   {
    "duration": 17,
    "start_time": "2024-11-11T07:01:12.868Z"
   },
   {
    "duration": 2687,
    "start_time": "2024-11-11T21:14:05.209Z"
   },
   {
    "duration": 19,
    "start_time": "2024-11-11T21:14:07.898Z"
   },
   {
    "duration": 20,
    "start_time": "2024-11-11T21:14:07.918Z"
   },
   {
    "duration": 16,
    "start_time": "2024-11-11T21:14:07.946Z"
   },
   {
    "duration": 165,
    "start_time": "2024-11-14T07:12:10.713Z"
   },
   {
    "duration": 2619,
    "start_time": "2024-11-14T07:12:17.489Z"
   },
   {
    "duration": 15,
    "start_time": "2024-11-14T07:12:20.111Z"
   },
   {
    "duration": 19,
    "start_time": "2024-11-14T07:12:20.128Z"
   },
   {
    "duration": 26,
    "start_time": "2024-11-14T07:12:20.149Z"
   },
   {
    "duration": 13,
    "start_time": "2024-11-14T07:12:20.177Z"
   },
   {
    "duration": 170,
    "start_time": "2024-11-14T20:06:54.853Z"
   },
   {
    "duration": 2742,
    "start_time": "2024-11-14T20:10:25.547Z"
   },
   {
    "duration": 21,
    "start_time": "2024-11-14T20:10:28.292Z"
   },
   {
    "duration": 21,
    "start_time": "2024-11-14T20:10:28.315Z"
   },
   {
    "duration": 19,
    "start_time": "2024-11-14T20:10:28.338Z"
   },
   {
    "duration": 14,
    "start_time": "2024-11-14T20:10:28.359Z"
   },
   {
    "duration": 38,
    "start_time": "2024-11-14T20:10:28.375Z"
   },
   {
    "duration": 11,
    "start_time": "2024-11-14T20:12:59.466Z"
   },
   {
    "duration": 632,
    "start_time": "2024-11-14T20:22:03.765Z"
   },
   {
    "duration": 57,
    "start_time": "2024-11-14T20:22:41.668Z"
   },
   {
    "duration": 222,
    "start_time": "2024-11-14T20:22:53.695Z"
   },
   {
    "duration": 7,
    "start_time": "2024-11-14T20:23:40.763Z"
   },
   {
    "duration": 45,
    "start_time": "2024-11-14T20:32:07.584Z"
   },
   {
    "duration": 14,
    "start_time": "2024-11-14T20:32:36.049Z"
   },
   {
    "duration": 9,
    "start_time": "2024-11-14T20:32:53.624Z"
   },
   {
    "duration": 2510,
    "start_time": "2024-11-15T02:57:03.048Z"
   },
   {
    "duration": 38,
    "start_time": "2024-11-15T02:57:05.560Z"
   },
   {
    "duration": 20,
    "start_time": "2024-11-15T02:57:05.599Z"
   },
   {
    "duration": 18,
    "start_time": "2024-11-15T02:57:05.621Z"
   },
   {
    "duration": 12,
    "start_time": "2024-11-15T02:57:05.642Z"
   },
   {
    "duration": 13,
    "start_time": "2024-11-15T02:57:05.655Z"
   },
   {
    "duration": 9,
    "start_time": "2024-11-15T02:57:05.687Z"
   },
   {
    "duration": 6,
    "start_time": "2024-11-15T02:57:05.698Z"
   },
   {
    "duration": 6,
    "start_time": "2024-11-15T02:57:05.706Z"
   },
   {
    "duration": 805,
    "start_time": "2024-11-15T03:39:22.305Z"
   },
   {
    "duration": 14,
    "start_time": "2024-11-15T03:39:23.113Z"
   },
   {
    "duration": 28,
    "start_time": "2024-11-15T03:39:23.128Z"
   },
   {
    "duration": 29,
    "start_time": "2024-11-15T03:39:23.159Z"
   },
   {
    "duration": 13,
    "start_time": "2024-11-15T03:39:23.191Z"
   },
   {
    "duration": 13,
    "start_time": "2024-11-15T03:39:23.206Z"
   },
   {
    "duration": 9,
    "start_time": "2024-11-15T03:39:23.221Z"
   },
   {
    "duration": 6,
    "start_time": "2024-11-15T03:39:23.231Z"
   },
   {
    "duration": 6,
    "start_time": "2024-11-15T03:39:23.239Z"
   },
   {
    "duration": 2470,
    "start_time": "2024-11-17T01:07:31.655Z"
   },
   {
    "duration": 14,
    "start_time": "2024-11-17T01:07:34.127Z"
   },
   {
    "duration": 19,
    "start_time": "2024-11-17T01:07:34.142Z"
   },
   {
    "duration": 18,
    "start_time": "2024-11-17T01:07:34.163Z"
   },
   {
    "duration": 12,
    "start_time": "2024-11-17T01:07:34.182Z"
   },
   {
    "duration": 37,
    "start_time": "2024-11-17T01:07:34.195Z"
   },
   {
    "duration": 10,
    "start_time": "2024-11-17T01:07:34.235Z"
   },
   {
    "duration": 7,
    "start_time": "2024-11-17T01:07:34.246Z"
   },
   {
    "duration": 6,
    "start_time": "2024-11-17T01:07:34.255Z"
   },
   {
    "duration": 2,
    "start_time": "2024-11-17T01:07:34.264Z"
   },
   {
    "duration": 10,
    "start_time": "2024-11-17T01:19:49.921Z"
   },
   {
    "duration": 585,
    "start_time": "2024-11-17T01:31:07.761Z"
   },
   {
    "duration": 166,
    "start_time": "2024-11-20T06:18:00.678Z"
   },
   {
    "duration": 2638,
    "start_time": "2024-11-20T06:18:21.327Z"
   },
   {
    "duration": 25,
    "start_time": "2024-11-20T06:18:23.967Z"
   },
   {
    "duration": 21,
    "start_time": "2024-11-20T06:18:23.993Z"
   },
   {
    "duration": 17,
    "start_time": "2024-11-20T06:18:24.016Z"
   },
   {
    "duration": 12,
    "start_time": "2024-11-20T06:18:24.035Z"
   },
   {
    "duration": 14,
    "start_time": "2024-11-20T06:18:24.049Z"
   },
   {
    "duration": 10,
    "start_time": "2024-11-20T06:18:24.066Z"
   },
   {
    "duration": 37,
    "start_time": "2024-11-20T06:18:24.077Z"
   },
   {
    "duration": 7,
    "start_time": "2024-11-20T06:18:24.116Z"
   },
   {
    "duration": 1211,
    "start_time": "2024-11-20T06:18:24.126Z"
   },
   {
    "duration": 2639,
    "start_time": "2024-11-20T18:55:41.902Z"
   },
   {
    "duration": 20,
    "start_time": "2024-11-20T18:55:44.544Z"
   },
   {
    "duration": 20,
    "start_time": "2024-11-20T18:55:44.566Z"
   },
   {
    "duration": 21,
    "start_time": "2024-11-20T18:55:44.589Z"
   },
   {
    "duration": 13,
    "start_time": "2024-11-20T18:55:44.612Z"
   },
   {
    "duration": 14,
    "start_time": "2024-11-20T18:55:44.627Z"
   },
   {
    "duration": 10,
    "start_time": "2024-11-20T18:55:44.642Z"
   },
   {
    "duration": 7,
    "start_time": "2024-11-20T18:55:44.654Z"
   },
   {
    "duration": 7,
    "start_time": "2024-11-20T18:55:44.664Z"
   },
   {
    "duration": 1275,
    "start_time": "2024-11-20T18:55:44.708Z"
   },
   {
    "duration": 791,
    "start_time": "2024-11-20T19:09:54.779Z"
   },
   {
    "duration": 12,
    "start_time": "2024-11-20T19:09:55.572Z"
   },
   {
    "duration": 28,
    "start_time": "2024-11-20T19:09:55.586Z"
   },
   {
    "duration": 19,
    "start_time": "2024-11-20T19:09:55.617Z"
   },
   {
    "duration": 12,
    "start_time": "2024-11-20T19:09:55.638Z"
   },
   {
    "duration": 13,
    "start_time": "2024-11-20T19:09:55.651Z"
   },
   {
    "duration": 10,
    "start_time": "2024-11-20T19:09:55.666Z"
   },
   {
    "duration": 38,
    "start_time": "2024-11-20T19:09:55.678Z"
   },
   {
    "duration": 7,
    "start_time": "2024-11-20T19:09:55.717Z"
   },
   {
    "duration": 171,
    "start_time": "2024-11-20T19:09:55.726Z"
   },
   {
    "duration": 12,
    "start_time": "2024-11-20T19:18:43.806Z"
   },
   {
    "duration": 822,
    "start_time": "2024-11-20T19:18:53.801Z"
   },
   {
    "duration": 13,
    "start_time": "2024-11-20T19:18:54.626Z"
   },
   {
    "duration": 20,
    "start_time": "2024-11-20T19:18:54.640Z"
   },
   {
    "duration": 18,
    "start_time": "2024-11-20T19:18:54.662Z"
   },
   {
    "duration": 32,
    "start_time": "2024-11-20T19:18:54.682Z"
   },
   {
    "duration": 13,
    "start_time": "2024-11-20T19:18:54.716Z"
   },
   {
    "duration": 8,
    "start_time": "2024-11-20T19:18:54.730Z"
   },
   {
    "duration": 6,
    "start_time": "2024-11-20T19:18:54.741Z"
   },
   {
    "duration": 6,
    "start_time": "2024-11-20T19:18:54.749Z"
   },
   {
    "duration": 180,
    "start_time": "2024-11-20T19:18:54.757Z"
   },
   {
    "duration": 669,
    "start_time": "2024-11-20T19:22:22.343Z"
   },
   {
    "duration": 227,
    "start_time": "2024-11-20T19:23:08.294Z"
   },
   {
    "duration": 363,
    "start_time": "2024-11-20T19:26:21.358Z"
   },
   {
    "duration": 130,
    "start_time": "2024-11-20T20:07:57.919Z"
   },
   {
    "duration": 190,
    "start_time": "2024-11-20T21:03:16.689Z"
   },
   {
    "duration": 302,
    "start_time": "2024-11-20T21:06:49.822Z"
   },
   {
    "duration": 238,
    "start_time": "2024-11-20T21:08:33.963Z"
   },
   {
    "duration": 270,
    "start_time": "2024-11-20T21:11:02.513Z"
   },
   {
    "duration": 2535,
    "start_time": "2024-11-21T20:56:38.023Z"
   },
   {
    "duration": 19,
    "start_time": "2024-11-21T20:56:40.561Z"
   },
   {
    "duration": 19,
    "start_time": "2024-11-21T20:56:40.582Z"
   },
   {
    "duration": 22,
    "start_time": "2024-11-21T20:56:40.603Z"
   },
   {
    "duration": 11,
    "start_time": "2024-11-21T20:56:40.626Z"
   },
   {
    "duration": 13,
    "start_time": "2024-11-21T20:56:40.638Z"
   },
   {
    "duration": 9,
    "start_time": "2024-11-21T20:56:40.652Z"
   },
   {
    "duration": 7,
    "start_time": "2024-11-21T20:56:40.663Z"
   },
   {
    "duration": 6,
    "start_time": "2024-11-21T20:56:40.671Z"
   },
   {
    "duration": 393,
    "start_time": "2024-11-21T20:56:40.680Z"
   },
   {
    "duration": 149,
    "start_time": "2024-11-21T20:56:41.075Z"
   },
   {
    "duration": 301,
    "start_time": "2024-11-21T20:56:41.228Z"
   },
   {
    "duration": 657,
    "start_time": "2024-11-21T20:56:41.530Z"
   },
   {
    "duration": 47,
    "start_time": "2024-11-21T20:57:26.338Z"
   },
   {
    "duration": 171,
    "start_time": "2024-11-21T20:57:47.198Z"
   },
   {
    "duration": 2616,
    "start_time": "2024-11-21T22:01:55.304Z"
   },
   {
    "duration": 19,
    "start_time": "2024-11-21T22:01:57.922Z"
   },
   {
    "duration": 19,
    "start_time": "2024-11-21T22:01:57.943Z"
   },
   {
    "duration": 18,
    "start_time": "2024-11-21T22:01:57.964Z"
   },
   {
    "duration": 11,
    "start_time": "2024-11-21T22:01:57.984Z"
   },
   {
    "duration": 16,
    "start_time": "2024-11-21T22:01:58.010Z"
   },
   {
    "duration": 10,
    "start_time": "2024-11-21T22:01:58.027Z"
   },
   {
    "duration": 6,
    "start_time": "2024-11-21T22:01:58.040Z"
   },
   {
    "duration": 8,
    "start_time": "2024-11-21T22:01:58.048Z"
   },
   {
    "duration": 402,
    "start_time": "2024-11-21T22:01:58.058Z"
   },
   {
    "duration": 146,
    "start_time": "2024-11-21T22:01:58.462Z"
   },
   {
    "duration": 301,
    "start_time": "2024-11-21T22:01:58.610Z"
   },
   {
    "duration": 144,
    "start_time": "2024-11-21T22:01:58.913Z"
   },
   {
    "duration": 2468,
    "start_time": "2024-11-25T01:37:18.729Z"
   },
   {
    "duration": 26,
    "start_time": "2024-11-25T01:37:21.199Z"
   },
   {
    "duration": 20,
    "start_time": "2024-11-25T01:37:21.226Z"
   },
   {
    "duration": 18,
    "start_time": "2024-11-25T01:37:21.247Z"
   },
   {
    "duration": 10,
    "start_time": "2024-11-25T01:37:21.268Z"
   },
   {
    "duration": 12,
    "start_time": "2024-11-25T01:37:21.279Z"
   },
   {
    "duration": 24,
    "start_time": "2024-11-25T01:37:21.293Z"
   },
   {
    "duration": 7,
    "start_time": "2024-11-25T01:37:21.319Z"
   },
   {
    "duration": 6,
    "start_time": "2024-11-25T01:37:21.327Z"
   },
   {
    "duration": 384,
    "start_time": "2024-11-25T01:37:21.335Z"
   },
   {
    "duration": 139,
    "start_time": "2024-11-25T01:37:21.721Z"
   },
   {
    "duration": 264,
    "start_time": "2024-11-25T01:37:21.861Z"
   },
   {
    "duration": 179,
    "start_time": "2024-11-25T01:37:22.127Z"
   },
   {
    "duration": 557,
    "start_time": "2024-11-25T02:15:22.409Z"
   },
   {
    "duration": 116,
    "start_time": "2024-11-25T02:16:31.645Z"
   },
   {
    "duration": 97,
    "start_time": "2024-11-25T02:16:47.289Z"
   },
   {
    "duration": 2536,
    "start_time": "2024-11-25T05:09:03.386Z"
   },
   {
    "duration": 18,
    "start_time": "2024-11-25T05:09:05.924Z"
   },
   {
    "duration": 21,
    "start_time": "2024-11-25T05:09:05.944Z"
   },
   {
    "duration": 19,
    "start_time": "2024-11-25T05:09:05.966Z"
   },
   {
    "duration": 10,
    "start_time": "2024-11-25T05:09:05.988Z"
   },
   {
    "duration": 13,
    "start_time": "2024-11-25T05:09:05.999Z"
   },
   {
    "duration": 8,
    "start_time": "2024-11-25T05:09:06.014Z"
   },
   {
    "duration": 8,
    "start_time": "2024-11-25T05:09:06.024Z"
   },
   {
    "duration": 42,
    "start_time": "2024-11-25T05:09:06.033Z"
   },
   {
    "duration": 380,
    "start_time": "2024-11-25T05:09:06.076Z"
   },
   {
    "duration": 159,
    "start_time": "2024-11-25T05:09:06.458Z"
   },
   {
    "duration": 283,
    "start_time": "2024-11-25T05:09:06.619Z"
   },
   {
    "duration": 145,
    "start_time": "2024-11-25T05:09:06.904Z"
   },
   {
    "duration": 169,
    "start_time": "2024-11-25T05:09:07.053Z"
   },
   {
    "duration": 808,
    "start_time": "2024-11-25T05:29:10.704Z"
   },
   {
    "duration": 13,
    "start_time": "2024-11-25T05:29:11.514Z"
   },
   {
    "duration": 19,
    "start_time": "2024-11-25T05:29:11.528Z"
   },
   {
    "duration": 33,
    "start_time": "2024-11-25T05:29:11.549Z"
   },
   {
    "duration": 11,
    "start_time": "2024-11-25T05:29:11.585Z"
   },
   {
    "duration": 13,
    "start_time": "2024-11-25T05:29:11.598Z"
   },
   {
    "duration": 10,
    "start_time": "2024-11-25T05:29:11.612Z"
   },
   {
    "duration": 7,
    "start_time": "2024-11-25T05:29:11.623Z"
   },
   {
    "duration": 40,
    "start_time": "2024-11-25T05:29:11.631Z"
   },
   {
    "duration": 378,
    "start_time": "2024-11-25T05:29:11.673Z"
   },
   {
    "duration": 140,
    "start_time": "2024-11-25T05:29:12.054Z"
   },
   {
    "duration": 303,
    "start_time": "2024-11-25T05:29:12.196Z"
   },
   {
    "duration": 145,
    "start_time": "2024-11-25T05:29:12.501Z"
   },
   {
    "duration": 109,
    "start_time": "2024-11-25T05:29:12.648Z"
   },
   {
    "duration": 17,
    "start_time": "2024-11-25T05:29:12.759Z"
   },
   {
    "duration": 3101,
    "start_time": "2024-11-25T20:27:13.442Z"
   },
   {
    "duration": 21,
    "start_time": "2024-11-25T20:27:16.546Z"
   },
   {
    "duration": 21,
    "start_time": "2024-11-25T20:27:16.569Z"
   },
   {
    "duration": 39,
    "start_time": "2024-11-25T20:27:16.592Z"
   },
   {
    "duration": 15,
    "start_time": "2024-11-25T20:27:16.638Z"
   },
   {
    "duration": 14,
    "start_time": "2024-11-25T20:27:16.655Z"
   },
   {
    "duration": 9,
    "start_time": "2024-11-25T20:27:16.670Z"
   },
   {
    "duration": 7,
    "start_time": "2024-11-25T20:27:16.680Z"
   },
   {
    "duration": 6,
    "start_time": "2024-11-25T20:27:16.689Z"
   },
   {
    "duration": 437,
    "start_time": "2024-11-25T20:27:16.698Z"
   },
   {
    "duration": 159,
    "start_time": "2024-11-25T20:27:17.138Z"
   },
   {
    "duration": 350,
    "start_time": "2024-11-25T20:27:17.299Z"
   },
   {
    "duration": 214,
    "start_time": "2024-11-25T20:27:17.651Z"
   },
   {
    "duration": 119,
    "start_time": "2024-11-25T20:27:17.868Z"
   },
   {
    "duration": 8,
    "start_time": "2024-11-25T20:27:17.989Z"
   },
   {
    "duration": 277,
    "start_time": "2024-11-25T20:46:45.792Z"
   },
   {
    "duration": 20,
    "start_time": "2024-11-25T20:47:03.988Z"
   },
   {
    "duration": 165,
    "start_time": "2024-11-25T20:47:16.906Z"
   },
   {
    "duration": 126,
    "start_time": "2024-11-25T20:47:31.256Z"
   },
   {
    "duration": 7,
    "start_time": "2024-11-25T21:01:37.255Z"
   },
   {
    "duration": 6,
    "start_time": "2024-11-25T21:03:50.137Z"
   },
   {
    "duration": 6,
    "start_time": "2024-11-25T21:03:56.036Z"
   },
   {
    "duration": 14,
    "start_time": "2024-11-25T21:04:26.908Z"
   },
   {
    "duration": 7,
    "start_time": "2024-11-25T21:04:39.174Z"
   },
   {
    "duration": 930,
    "start_time": "2024-11-25T21:04:45.139Z"
   },
   {
    "duration": 17,
    "start_time": "2024-11-25T21:04:46.072Z"
   },
   {
    "duration": 27,
    "start_time": "2024-11-25T21:04:46.091Z"
   },
   {
    "duration": 32,
    "start_time": "2024-11-25T21:04:46.120Z"
   },
   {
    "duration": 13,
    "start_time": "2024-11-25T21:04:46.155Z"
   },
   {
    "duration": 14,
    "start_time": "2024-11-25T21:04:46.170Z"
   },
   {
    "duration": 8,
    "start_time": "2024-11-25T21:04:46.186Z"
   },
   {
    "duration": 11,
    "start_time": "2024-11-25T21:04:46.216Z"
   },
   {
    "duration": 12,
    "start_time": "2024-11-25T21:04:46.228Z"
   },
   {
    "duration": 419,
    "start_time": "2024-11-25T21:04:46.242Z"
   },
   {
    "duration": 149,
    "start_time": "2024-11-25T21:04:46.663Z"
   },
   {
    "duration": 349,
    "start_time": "2024-11-25T21:04:46.814Z"
   },
   {
    "duration": 197,
    "start_time": "2024-11-25T21:04:47.166Z"
   },
   {
    "duration": 120,
    "start_time": "2024-11-25T21:04:47.366Z"
   },
   {
    "duration": 8,
    "start_time": "2024-11-25T21:04:47.488Z"
   },
   {
    "duration": 142,
    "start_time": "2024-11-25T21:04:47.497Z"
   },
   {
    "duration": 9,
    "start_time": "2024-11-25T21:04:47.640Z"
   },
   {
    "duration": 930,
    "start_time": "2024-11-25T21:21:15.137Z"
   },
   {
    "duration": 16,
    "start_time": "2024-11-25T21:21:16.069Z"
   },
   {
    "duration": 22,
    "start_time": "2024-11-25T21:21:16.087Z"
   },
   {
    "duration": 24,
    "start_time": "2024-11-25T21:21:16.112Z"
   },
   {
    "duration": 15,
    "start_time": "2024-11-25T21:21:16.138Z"
   },
   {
    "duration": 14,
    "start_time": "2024-11-25T21:21:16.155Z"
   },
   {
    "duration": 9,
    "start_time": "2024-11-25T21:21:16.171Z"
   },
   {
    "duration": 36,
    "start_time": "2024-11-25T21:21:16.182Z"
   },
   {
    "duration": 14,
    "start_time": "2024-11-25T21:21:16.219Z"
   },
   {
    "duration": 434,
    "start_time": "2024-11-25T21:21:16.237Z"
   },
   {
    "duration": 150,
    "start_time": "2024-11-25T21:21:16.672Z"
   },
   {
    "duration": 319,
    "start_time": "2024-11-25T21:21:16.823Z"
   },
   {
    "duration": 172,
    "start_time": "2024-11-25T21:21:17.144Z"
   },
   {
    "duration": 117,
    "start_time": "2024-11-25T21:21:17.321Z"
   },
   {
    "duration": 9,
    "start_time": "2024-11-25T21:21:17.444Z"
   },
   {
    "duration": 123,
    "start_time": "2024-11-25T21:21:17.456Z"
   },
   {
    "duration": 7,
    "start_time": "2024-11-25T21:21:17.581Z"
   },
   {
    "duration": 2539,
    "start_time": "2024-11-25T22:21:42.336Z"
   },
   {
    "duration": 23,
    "start_time": "2024-11-25T22:21:44.877Z"
   },
   {
    "duration": 19,
    "start_time": "2024-11-25T22:21:44.902Z"
   },
   {
    "duration": 17,
    "start_time": "2024-11-25T22:21:44.924Z"
   },
   {
    "duration": 10,
    "start_time": "2024-11-25T22:21:44.943Z"
   },
   {
    "duration": 13,
    "start_time": "2024-11-25T22:21:44.955Z"
   },
   {
    "duration": 8,
    "start_time": "2024-11-25T22:21:44.970Z"
   },
   {
    "duration": 6,
    "start_time": "2024-11-25T22:21:44.979Z"
   },
   {
    "duration": 40,
    "start_time": "2024-11-25T22:21:44.987Z"
   },
   {
    "duration": 370,
    "start_time": "2024-11-25T22:21:45.029Z"
   },
   {
    "duration": 143,
    "start_time": "2024-11-25T22:21:45.401Z"
   },
   {
    "duration": 282,
    "start_time": "2024-11-25T22:21:45.545Z"
   },
   {
    "duration": 144,
    "start_time": "2024-11-25T22:21:45.828Z"
   },
   {
    "duration": 104,
    "start_time": "2024-11-25T22:21:45.974Z"
   },
   {
    "duration": 7,
    "start_time": "2024-11-25T22:21:46.080Z"
   },
   {
    "duration": 116,
    "start_time": "2024-11-25T22:21:46.089Z"
   },
   {
    "duration": 6,
    "start_time": "2024-11-25T22:21:46.207Z"
   },
   {
    "duration": 404,
    "start_time": "2024-11-25T22:23:21.381Z"
   },
   {
    "duration": 139,
    "start_time": "2024-11-25T22:24:48.142Z"
   },
   {
    "duration": 3,
    "start_time": "2024-11-25T22:25:13.053Z"
   },
   {
    "duration": 807,
    "start_time": "2024-11-25T22:25:19.127Z"
   },
   {
    "duration": 11,
    "start_time": "2024-11-25T22:25:19.936Z"
   },
   {
    "duration": 19,
    "start_time": "2024-11-25T22:25:19.949Z"
   },
   {
    "duration": 17,
    "start_time": "2024-11-25T22:25:19.969Z"
   },
   {
    "duration": 10,
    "start_time": "2024-11-25T22:25:19.987Z"
   },
   {
    "duration": 35,
    "start_time": "2024-11-25T22:25:19.998Z"
   },
   {
    "duration": 8,
    "start_time": "2024-11-25T22:25:20.034Z"
   },
   {
    "duration": 7,
    "start_time": "2024-11-25T22:25:20.044Z"
   },
   {
    "duration": 6,
    "start_time": "2024-11-25T22:25:20.053Z"
   },
   {
    "duration": 393,
    "start_time": "2024-11-25T22:25:20.063Z"
   },
   {
    "duration": 138,
    "start_time": "2024-11-25T22:25:20.458Z"
   },
   {
    "duration": 314,
    "start_time": "2024-11-25T22:25:20.599Z"
   },
   {
    "duration": 146,
    "start_time": "2024-11-25T22:25:20.915Z"
   },
   {
    "duration": 105,
    "start_time": "2024-11-25T22:25:21.063Z"
   },
   {
    "duration": 8,
    "start_time": "2024-11-25T22:25:21.170Z"
   },
   {
    "duration": 120,
    "start_time": "2024-11-25T22:25:21.181Z"
   },
   {
    "duration": 6,
    "start_time": "2024-11-25T22:25:21.303Z"
   },
   {
    "duration": 159,
    "start_time": "2024-11-25T22:25:21.311Z"
   },
   {
    "duration": 2455,
    "start_time": "2024-11-26T03:09:03.590Z"
   },
   {
    "duration": 21,
    "start_time": "2024-11-26T03:09:06.047Z"
   },
   {
    "duration": 20,
    "start_time": "2024-11-26T03:09:06.070Z"
   },
   {
    "duration": 20,
    "start_time": "2024-11-26T03:09:06.091Z"
   },
   {
    "duration": 11,
    "start_time": "2024-11-26T03:09:06.114Z"
   },
   {
    "duration": 13,
    "start_time": "2024-11-26T03:09:06.126Z"
   },
   {
    "duration": 8,
    "start_time": "2024-11-26T03:09:06.140Z"
   },
   {
    "duration": 6,
    "start_time": "2024-11-26T03:09:06.149Z"
   },
   {
    "duration": 6,
    "start_time": "2024-11-26T03:09:06.157Z"
   },
   {
    "duration": 430,
    "start_time": "2024-11-26T03:09:06.164Z"
   },
   {
    "duration": 168,
    "start_time": "2024-11-26T03:09:06.595Z"
   },
   {
    "duration": 272,
    "start_time": "2024-11-26T03:09:06.765Z"
   },
   {
    "duration": 144,
    "start_time": "2024-11-26T03:09:07.039Z"
   },
   {
    "duration": 99,
    "start_time": "2024-11-26T03:09:07.186Z"
   },
   {
    "duration": 7,
    "start_time": "2024-11-26T03:09:07.287Z"
   },
   {
    "duration": 157,
    "start_time": "2024-11-26T03:09:07.306Z"
   },
   {
    "duration": 6,
    "start_time": "2024-11-26T03:09:07.465Z"
   },
   {
    "duration": 154,
    "start_time": "2024-11-26T03:09:07.473Z"
   },
   {
    "duration": 2806,
    "start_time": "2024-11-26T04:45:31.372Z"
   },
   {
    "duration": 25,
    "start_time": "2024-11-26T04:45:34.181Z"
   },
   {
    "duration": 34,
    "start_time": "2024-11-26T04:45:34.209Z"
   },
   {
    "duration": 24,
    "start_time": "2024-11-26T04:45:34.245Z"
   },
   {
    "duration": 14,
    "start_time": "2024-11-26T04:45:34.272Z"
   },
   {
    "duration": 16,
    "start_time": "2024-11-26T04:45:34.305Z"
   },
   {
    "duration": 10,
    "start_time": "2024-11-26T04:45:34.323Z"
   },
   {
    "duration": 7,
    "start_time": "2024-11-26T04:45:34.334Z"
   },
   {
    "duration": 7,
    "start_time": "2024-11-26T04:45:34.343Z"
   },
   {
    "duration": 413,
    "start_time": "2024-11-26T04:45:34.351Z"
   },
   {
    "duration": 142,
    "start_time": "2024-11-26T04:45:34.766Z"
   },
   {
    "duration": 298,
    "start_time": "2024-11-26T04:45:34.910Z"
   },
   {
    "duration": 148,
    "start_time": "2024-11-26T04:45:35.210Z"
   },
   {
    "duration": 103,
    "start_time": "2024-11-26T04:45:35.361Z"
   },
   {
    "duration": 8,
    "start_time": "2024-11-26T04:45:35.466Z"
   },
   {
    "duration": 116,
    "start_time": "2024-11-26T04:45:35.475Z"
   },
   {
    "duration": 13,
    "start_time": "2024-11-26T04:45:35.592Z"
   },
   {
    "duration": 164,
    "start_time": "2024-11-26T04:45:35.607Z"
   },
   {
    "duration": 2679,
    "start_time": "2024-11-26T07:24:09.718Z"
   },
   {
    "duration": 47,
    "start_time": "2024-11-26T07:24:12.400Z"
   },
   {
    "duration": 20,
    "start_time": "2024-11-26T07:24:12.449Z"
   },
   {
    "duration": 18,
    "start_time": "2024-11-26T07:24:12.472Z"
   },
   {
    "duration": 13,
    "start_time": "2024-11-26T07:24:12.493Z"
   },
   {
    "duration": 16,
    "start_time": "2024-11-26T07:24:12.509Z"
   },
   {
    "duration": 9,
    "start_time": "2024-11-26T07:24:12.527Z"
   },
   {
    "duration": 8,
    "start_time": "2024-11-26T07:24:12.538Z"
   },
   {
    "duration": 7,
    "start_time": "2024-11-26T07:24:12.548Z"
   },
   {
    "duration": 412,
    "start_time": "2024-11-26T07:24:12.557Z"
   },
   {
    "duration": 147,
    "start_time": "2024-11-26T07:24:12.972Z"
   },
   {
    "duration": 298,
    "start_time": "2024-11-26T07:24:13.122Z"
   },
   {
    "duration": 151,
    "start_time": "2024-11-26T07:24:13.422Z"
   },
   {
    "duration": 106,
    "start_time": "2024-11-26T07:24:13.576Z"
   },
   {
    "duration": 8,
    "start_time": "2024-11-26T07:24:13.684Z"
   },
   {
    "duration": 119,
    "start_time": "2024-11-26T07:24:13.694Z"
   },
   {
    "duration": 10,
    "start_time": "2024-11-26T07:24:13.814Z"
   },
   {
    "duration": 233,
    "start_time": "2024-11-26T07:24:13.825Z"
   },
   {
    "duration": 841,
    "start_time": "2024-11-26T07:49:31.332Z"
   },
   {
    "duration": 14,
    "start_time": "2024-11-26T07:49:32.176Z"
   },
   {
    "duration": 26,
    "start_time": "2024-11-26T07:49:32.192Z"
   },
   {
    "duration": 19,
    "start_time": "2024-11-26T07:49:32.221Z"
   },
   {
    "duration": 11,
    "start_time": "2024-11-26T07:49:32.242Z"
   },
   {
    "duration": 17,
    "start_time": "2024-11-26T07:49:32.254Z"
   },
   {
    "duration": 35,
    "start_time": "2024-11-26T07:49:32.273Z"
   },
   {
    "duration": 8,
    "start_time": "2024-11-26T07:49:32.310Z"
   },
   {
    "duration": 6,
    "start_time": "2024-11-26T07:49:32.321Z"
   },
   {
    "duration": 398,
    "start_time": "2024-11-26T07:49:32.330Z"
   },
   {
    "duration": 148,
    "start_time": "2024-11-26T07:49:32.730Z"
   },
   {
    "duration": 327,
    "start_time": "2024-11-26T07:49:32.880Z"
   },
   {
    "duration": 143,
    "start_time": "2024-11-26T07:49:33.209Z"
   },
   {
    "duration": 107,
    "start_time": "2024-11-26T07:49:33.354Z"
   },
   {
    "duration": 8,
    "start_time": "2024-11-26T07:49:33.463Z"
   },
   {
    "duration": 123,
    "start_time": "2024-11-26T07:49:33.472Z"
   },
   {
    "duration": 11,
    "start_time": "2024-11-26T07:49:33.597Z"
   },
   {
    "duration": 156,
    "start_time": "2024-11-26T07:49:33.610Z"
   },
   {
    "duration": 2457,
    "start_time": "2024-11-27T20:25:03.604Z"
   },
   {
    "duration": 21,
    "start_time": "2024-11-27T20:25:06.063Z"
   },
   {
    "duration": 20,
    "start_time": "2024-11-27T20:25:06.086Z"
   },
   {
    "duration": 24,
    "start_time": "2024-11-27T20:25:06.108Z"
   },
   {
    "duration": 11,
    "start_time": "2024-11-27T20:25:06.135Z"
   },
   {
    "duration": 13,
    "start_time": "2024-11-27T20:25:06.147Z"
   },
   {
    "duration": 8,
    "start_time": "2024-11-27T20:25:06.162Z"
   },
   {
    "duration": 6,
    "start_time": "2024-11-27T20:25:06.172Z"
   },
   {
    "duration": 6,
    "start_time": "2024-11-27T20:25:06.181Z"
   },
   {
    "duration": 393,
    "start_time": "2024-11-27T20:25:06.190Z"
   },
   {
    "duration": 140,
    "start_time": "2024-11-27T20:25:06.584Z"
   },
   {
    "duration": 313,
    "start_time": "2024-11-27T20:25:06.726Z"
   },
   {
    "duration": 149,
    "start_time": "2024-11-27T20:25:07.041Z"
   },
   {
    "duration": 97,
    "start_time": "2024-11-27T20:25:07.192Z"
   },
   {
    "duration": 8,
    "start_time": "2024-11-27T20:25:07.291Z"
   },
   {
    "duration": 117,
    "start_time": "2024-11-27T20:25:07.300Z"
   },
   {
    "duration": 6,
    "start_time": "2024-11-27T20:25:07.418Z"
   },
   {
    "duration": 210,
    "start_time": "2024-11-27T20:25:07.425Z"
   },
   {
    "duration": 9,
    "start_time": "2024-11-27T20:25:37.175Z"
   },
   {
    "duration": 452,
    "start_time": "2024-11-27T20:43:24.427Z"
   },
   {
    "duration": 310,
    "start_time": "2024-11-27T20:46:33.372Z"
   },
   {
    "duration": 759,
    "start_time": "2024-11-27T21:12:24.000Z"
   },
   {
    "duration": 15,
    "start_time": "2024-11-27T21:12:24.761Z"
   },
   {
    "duration": 18,
    "start_time": "2024-11-27T21:12:24.778Z"
   },
   {
    "duration": 18,
    "start_time": "2024-11-27T21:12:24.798Z"
   },
   {
    "duration": 22,
    "start_time": "2024-11-27T21:12:24.818Z"
   },
   {
    "duration": 13,
    "start_time": "2024-11-27T21:12:24.842Z"
   },
   {
    "duration": 8,
    "start_time": "2024-11-27T21:12:24.857Z"
   },
   {
    "duration": 6,
    "start_time": "2024-11-27T21:12:24.867Z"
   },
   {
    "duration": 6,
    "start_time": "2024-11-27T21:12:24.875Z"
   },
   {
    "duration": 403,
    "start_time": "2024-11-27T21:12:24.884Z"
   },
   {
    "duration": 142,
    "start_time": "2024-11-27T21:12:25.290Z"
   },
   {
    "duration": 301,
    "start_time": "2024-11-27T21:12:25.433Z"
   },
   {
    "duration": 146,
    "start_time": "2024-11-27T21:12:25.736Z"
   },
   {
    "duration": 103,
    "start_time": "2024-11-27T21:12:25.884Z"
   },
   {
    "duration": 8,
    "start_time": "2024-11-27T21:12:25.989Z"
   },
   {
    "duration": 114,
    "start_time": "2024-11-27T21:12:25.998Z"
   },
   {
    "duration": 18,
    "start_time": "2024-11-27T21:12:26.113Z"
   },
   {
    "duration": 158,
    "start_time": "2024-11-27T21:12:26.132Z"
   },
   {
    "duration": 7,
    "start_time": "2024-11-27T21:12:26.292Z"
   },
   {
    "duration": 380,
    "start_time": "2024-11-27T21:12:26.301Z"
   },
   {
    "duration": 2523,
    "start_time": "2024-11-27T22:35:26.474Z"
   },
   {
    "duration": 18,
    "start_time": "2024-11-27T22:35:29.000Z"
   },
   {
    "duration": 20,
    "start_time": "2024-11-27T22:35:29.020Z"
   },
   {
    "duration": 17,
    "start_time": "2024-11-27T22:35:29.042Z"
   },
   {
    "duration": 10,
    "start_time": "2024-11-27T22:35:29.061Z"
   },
   {
    "duration": 13,
    "start_time": "2024-11-27T22:35:29.072Z"
   },
   {
    "duration": 8,
    "start_time": "2024-11-27T22:35:29.087Z"
   },
   {
    "duration": 33,
    "start_time": "2024-11-27T22:35:29.096Z"
   },
   {
    "duration": 6,
    "start_time": "2024-11-27T22:35:29.131Z"
   },
   {
    "duration": 377,
    "start_time": "2024-11-27T22:35:29.139Z"
   },
   {
    "duration": 143,
    "start_time": "2024-11-27T22:35:29.518Z"
   },
   {
    "duration": 269,
    "start_time": "2024-11-27T22:35:29.663Z"
   },
   {
    "duration": 146,
    "start_time": "2024-11-27T22:35:29.934Z"
   },
   {
    "duration": 146,
    "start_time": "2024-11-27T22:35:30.082Z"
   },
   {
    "duration": 7,
    "start_time": "2024-11-27T22:35:30.231Z"
   },
   {
    "duration": 116,
    "start_time": "2024-11-27T22:35:30.240Z"
   },
   {
    "duration": 6,
    "start_time": "2024-11-27T22:35:30.358Z"
   },
   {
    "duration": 166,
    "start_time": "2024-11-27T22:35:30.367Z"
   },
   {
    "duration": 8,
    "start_time": "2024-11-27T22:35:30.535Z"
   },
   {
    "duration": 352,
    "start_time": "2024-11-27T22:35:30.545Z"
   },
   {
    "duration": 2782,
    "start_time": "2024-11-27T23:57:29.010Z"
   },
   {
    "duration": 32,
    "start_time": "2024-11-27T23:57:31.794Z"
   },
   {
    "duration": 21,
    "start_time": "2024-11-27T23:57:31.828Z"
   },
   {
    "duration": 19,
    "start_time": "2024-11-27T23:57:31.851Z"
   },
   {
    "duration": 12,
    "start_time": "2024-11-27T23:57:31.874Z"
   },
   {
    "duration": 14,
    "start_time": "2024-11-27T23:57:31.888Z"
   },
   {
    "duration": 10,
    "start_time": "2024-11-27T23:57:31.904Z"
   },
   {
    "duration": 8,
    "start_time": "2024-11-27T23:57:31.943Z"
   },
   {
    "duration": 7,
    "start_time": "2024-11-27T23:57:31.953Z"
   },
   {
    "duration": 397,
    "start_time": "2024-11-27T23:57:31.964Z"
   },
   {
    "duration": 155,
    "start_time": "2024-11-27T23:57:32.363Z"
   },
   {
    "duration": 283,
    "start_time": "2024-11-27T23:57:32.520Z"
   },
   {
    "duration": 157,
    "start_time": "2024-11-27T23:57:32.805Z"
   },
   {
    "duration": 114,
    "start_time": "2024-11-27T23:57:32.965Z"
   },
   {
    "duration": 9,
    "start_time": "2024-11-27T23:57:33.081Z"
   },
   {
    "duration": 131,
    "start_time": "2024-11-27T23:57:33.092Z"
   },
   {
    "duration": 19,
    "start_time": "2024-11-27T23:57:33.224Z"
   },
   {
    "duration": 228,
    "start_time": "2024-11-27T23:57:33.245Z"
   },
   {
    "duration": 9,
    "start_time": "2024-11-27T23:57:33.476Z"
   },
   {
    "duration": 369,
    "start_time": "2024-11-27T23:57:33.488Z"
   },
   {
    "duration": 7,
    "start_time": "2024-11-28T00:02:00.350Z"
   },
   {
    "duration": 886,
    "start_time": "2024-11-28T00:42:48.525Z"
   },
   {
    "duration": 15,
    "start_time": "2024-11-28T00:42:49.413Z"
   },
   {
    "duration": 25,
    "start_time": "2024-11-28T00:42:49.429Z"
   },
   {
    "duration": 19,
    "start_time": "2024-11-28T00:42:49.457Z"
   },
   {
    "duration": 12,
    "start_time": "2024-11-28T00:42:49.478Z"
   },
   {
    "duration": 15,
    "start_time": "2024-11-28T00:42:49.492Z"
   },
   {
    "duration": 38,
    "start_time": "2024-11-28T00:42:49.508Z"
   },
   {
    "duration": 8,
    "start_time": "2024-11-28T00:42:49.548Z"
   },
   {
    "duration": 6,
    "start_time": "2024-11-28T00:42:49.559Z"
   },
   {
    "duration": 405,
    "start_time": "2024-11-28T00:42:49.569Z"
   },
   {
    "duration": 149,
    "start_time": "2024-11-28T00:42:49.976Z"
   },
   {
    "duration": 318,
    "start_time": "2024-11-28T00:42:50.126Z"
   },
   {
    "duration": 161,
    "start_time": "2024-11-28T00:42:50.446Z"
   },
   {
    "duration": 121,
    "start_time": "2024-11-28T00:42:50.609Z"
   },
   {
    "duration": 13,
    "start_time": "2024-11-28T00:42:50.732Z"
   },
   {
    "duration": 122,
    "start_time": "2024-11-28T00:42:50.747Z"
   },
   {
    "duration": 7,
    "start_time": "2024-11-28T00:42:50.871Z"
   },
   {
    "duration": 163,
    "start_time": "2024-11-28T00:42:50.880Z"
   },
   {
    "duration": 10,
    "start_time": "2024-11-28T00:42:51.045Z"
   },
   {
    "duration": 373,
    "start_time": "2024-11-28T00:42:51.056Z"
   },
   {
    "duration": 8,
    "start_time": "2024-11-28T00:42:51.444Z"
   }
  ],
  "kernelspec": {
   "display_name": "Python 3 (ipykernel)",
   "language": "python",
   "name": "python3"
  },
  "language_info": {
   "codemirror_mode": {
    "name": "ipython",
    "version": 3
   },
   "file_extension": ".py",
   "mimetype": "text/x-python",
   "name": "python",
   "nbconvert_exporter": "python",
   "pygments_lexer": "ipython3",
   "version": "3.9.19"
  },
  "toc": {
   "base_numbering": 1,
   "nav_menu": {},
   "number_sections": true,
   "sideBar": true,
   "skip_h1_title": true,
   "title_cell": "Table of Contents",
   "title_sidebar": "Contents",
   "toc_cell": false,
   "toc_position": {
    "height": "calc(100% - 180px)",
    "left": "10px",
    "top": "150px",
    "width": "214.8px"
   },
   "toc_section_display": true,
   "toc_window_display": true
  }
 },
 "nbformat": 4,
 "nbformat_minor": 2
}
